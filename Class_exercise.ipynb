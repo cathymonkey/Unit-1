{
  "nbformat": 4,
  "nbformat_minor": 0,
  "metadata": {
    "colab": {
      "name": "Class exercise.ipynb",
      "provenance": [],
      "authorship_tag": "ABX9TyPivsZWdXLecAcdDqePREYq",
      "include_colab_link": true
    },
    "kernelspec": {
      "name": "python3",
      "display_name": "Python 3"
    }
  },
  "cells": [
    {
      "cell_type": "markdown",
      "metadata": {
        "id": "view-in-github",
        "colab_type": "text"
      },
      "source": [
        "<a href=\"https://colab.research.google.com/github/cathymonkey/Unit-1/blob/master/Class_exercise.ipynb\" target=\"_parent\"><img src=\"https://colab.research.google.com/assets/colab-badge.svg\" alt=\"Open In Colab\"/></a>"
      ]
    },
    {
      "cell_type": "markdown",
      "metadata": {
        "id": "QEfTkhC_kjeP"
      },
      "source": [
        "## **Class exercise**\n",
        "###**Context**:"
      ]
    },
    {
      "cell_type": "code",
      "metadata": {
        "id": "k05epQP7k1yQ"
      },
      "source": [
        "class Motorcycle:\n",
        "  #constructor: here the attributes are define \n",
        "  def __init__(self):\n",
        "    self.fuel_tank_cap = 0\n",
        "    self.fuel_level = 0\n",
        "    self.engine_size = 0\n",
        "\n",
        "  def get_fuel_level(self):\n",
        "    return self. fuel_level\n"
      ],
      "execution_count": 3,
      "outputs": []
    },
    {
      "cell_type": "code",
      "metadata": {
        "colab": {
          "base_uri": "https://localhost:8080/"
        },
        "id": "2rMTlPselphq",
        "outputId": "64b341cc-8d6f-4fc1-f1e1-f8904845b7fd"
      },
      "source": [
        "## Create an object of the class motorcycle.\n",
        "bike_1 = Motorcycle()\n",
        "print(bike_1.get_fuel_level())"
      ],
      "execution_count": 4,
      "outputs": [
        {
          "output_type": "stream",
          "text": [
            "0\n"
          ],
          "name": "stdout"
        }
      ]
    }
  ]
}